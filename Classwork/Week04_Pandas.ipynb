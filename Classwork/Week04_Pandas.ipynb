{
 "cells": [
  {
   "cell_type": "markdown",
   "metadata": {},
   "source": [
    "# Week 4\n",
    "# Pandas Data Frames (Part 1)\n",
    "\n",
    "[Pandas](https://pandas.pydata.org/) is a major tool for data scientists on Python. It contains data structures and data manipulation tools designed to make data cleaning and analysis fast and easy.\n",
    "\n",
    "References:\n",
    "- Textbook Chapter 5: Getting Started with Pandas\n",
    "- [Pandas User Guide](https://pandas.pydata.org/docs/user_guide/index.html)\n",
    "- [Pandas Exercises on W3Resources](https://www.w3resource.com/python-exercises/pandas/index.php)"
   ]
  },
  {
   "cell_type": "code",
   "execution_count": null,
   "metadata": {},
   "outputs": [],
   "source": [
    "import numpy as np\n",
    "import pandas as pd # pd is the universally-used abbreviation"
   ]
  },
  {
   "cell_type": "markdown",
   "metadata": {},
   "source": [
    "Pandas provides two data types that extend numpy arrays:\n",
    "- Data Series: extending 1D array, used to represent a single feature\n",
    "- Data Frame: extending 2D array, used to represent a data table\n",
    "\n",
    "We will focus on data frames today, as most data sets are stored in table format."
   ]
  },
  {
   "cell_type": "code",
   "execution_count": null,
   "metadata": {},
   "outputs": [],
   "source": [
    "# Define a DataFrame from scratch\n",
    "df1 = pd.DataFrame(np.random.rand(5, 3),\n",
    "                   columns=['Feature1', 'Feature2', 'Feature3'])\n",
    "df1.head() # prints the first several rows"
   ]
  },
  {
   "cell_type": "code",
   "execution_count": null,
   "metadata": {},
   "outputs": [],
   "source": [
    "# Print the shape of the data frame\n",
    "print(df1.shape)"
   ]
  },
  {
   "cell_type": "code",
   "execution_count": null,
   "metadata": {
    "scrolled": true
   },
   "outputs": [],
   "source": [
    "# Row indices\n",
    "print(df1.index)\n",
    "# print(df1.index.values)"
   ]
  },
  {
   "cell_type": "code",
   "execution_count": null,
   "metadata": {},
   "outputs": [],
   "source": [
    "# Column indices\n",
    "print(df1.columns)\n",
    "# print(df1.columns.values)"
   ]
  },
  {
   "cell_type": "code",
   "execution_count": null,
   "metadata": {},
   "outputs": [],
   "source": [
    "# Access elements using .loc[row_index, col_index]\n",
    "# Ex: Print the Feature1 value on the first row\n",
    "\n"
   ]
  },
  {
   "cell_type": "code",
   "execution_count": null,
   "metadata": {},
   "outputs": [],
   "source": [
    "# Index slicing\n",
    "# Ex: Print the Feature2 value for the first 3 rows\n"
   ]
  },
  {
   "cell_type": "code",
   "execution_count": null,
   "metadata": {},
   "outputs": [],
   "source": [
    "# Ex: Print the Feature2 and Feature3 values for the last 3 rows\n",
    "# .loc[] does not support negative index\n",
    "print(df1.loc[2:4, ['Feature1', 'Feature2']])"
   ]
  },
  {
   "cell_type": "code",
   "execution_count": null,
   "metadata": {},
   "outputs": [],
   "source": [
    "# Ex: Use boolean indexing to extract the last 3 rows\n",
    "row_indices = (df1.index >= 2)\n",
    "print(row_indices)\n",
    "print(df1.loc[row_indices, :])"
   ]
  },
  {
   "cell_type": "markdown",
   "metadata": {},
   "source": [
    "## Basic Table Operations\n",
    "- Change a value \n",
    "- Add a new row\n",
    "- Add a new column\n",
    "- Remove a row\n",
    "- Remove a column"
   ]
  },
  {
   "cell_type": "code",
   "execution_count": null,
   "metadata": {},
   "outputs": [],
   "source": [
    "data = [[60, 70, 80],\n",
    "        [66, 88, 77],\n",
    "        [100, 60, 30],\n",
    "        [85, 87, 83]]\n",
    "scores = pd.DataFrame(data,\n",
    "                      index=['Alice', 'Bob', 'Chris', 'David'],\n",
    "                      columns=['Quiz1', 'Quiz2', 'Final'])\n",
    "scores"
   ]
  },
  {
   "cell_type": "code",
   "execution_count": null,
   "metadata": {},
   "outputs": [],
   "source": [
    "# Change Alice's final score to 90.\n",
    "scores.loc['Alice', 'Final'] = 90\n",
    "scores"
   ]
  },
  {
   "cell_type": "code",
   "execution_count": null,
   "metadata": {},
   "outputs": [],
   "source": [
    "# Add a new row: \"Edward\": [77, 88, 99]\n",
    "scores.loc['Edward', :] = [77, 88, 99]\n",
    "scores"
   ]
  },
  {
   "cell_type": "code",
   "execution_count": null,
   "metadata": {},
   "outputs": [],
   "source": [
    "# Append a new data frame\n",
    "more_scores = pd.DataFrame(data={'Quiz1': [67, 76],\n",
    "                                 'Quiz2': [78, 87],\n",
    "                                 'Final': [89, 98]},\n",
    "                           index=['Flora', 'Gabriel']) # Represent data as a dictionary\n",
    "print(more_scores)\n",
    "total_scores = scores.append(more_scores) # append() creates a new data frame\n",
    "total_scores"
   ]
  },
  {
   "cell_type": "code",
   "execution_count": null,
   "metadata": {
    "scrolled": true
   },
   "outputs": [],
   "source": [
    "# Add a column \"ExtraCredit\"\n",
    "total_scores['ExtraCredit'] = [0, 1, 2, 3, 4, 5, 6]\n",
    "total_scores"
   ]
  },
  {
   "cell_type": "code",
   "execution_count": null,
   "metadata": {},
   "outputs": [],
   "source": [
    "# Add additional columns from another data frame\n",
    "# will be discussed in Chapter 8\n"
   ]
  },
  {
   "cell_type": "code",
   "execution_count": null,
   "metadata": {},
   "outputs": [],
   "source": [
    "# Remove record for Chris\n",
    "total_scores.drop('Chris') # drop() creates a new data frame\n",
    "\n"
   ]
  },
  {
   "cell_type": "code",
   "execution_count": null,
   "metadata": {},
   "outputs": [],
   "source": [
    "# Remove column \"ExtraCredit\"\n",
    "total_scores.drop('ExtraCredit', axis=1) # drop() creates a new data frame\n",
    "\n"
   ]
  },
  {
   "cell_type": "code",
   "execution_count": null,
   "metadata": {},
   "outputs": [],
   "source": [
    "# Remove both David and Flora\n",
    "total_scores.drop(['David', 'Flora'])"
   ]
  },
  {
   "cell_type": "markdown",
   "metadata": {},
   "source": [
    "## Table Arithmetics\n",
    "- Perform an operation uniformly to all values in a column\n",
    "- Arithmetics with multiple columns\n",
    "- Calculate statistics\n",
    "- Apply a user-defined function to all rows"
   ]
  },
  {
   "cell_type": "code",
   "execution_count": null,
   "metadata": {},
   "outputs": [],
   "source": [
    "# Double the extra credits\n",
    "\n"
   ]
  },
  {
   "cell_type": "code",
   "execution_count": null,
   "metadata": {},
   "outputs": [],
   "source": [
    "# Calculate grades:\n",
    "#   Grades = Quiz1 * 25% + Quiz2 * 25% + Final * 50% + ExtraCredit\n"
   ]
  },
  {
   "cell_type": "code",
   "execution_count": null,
   "metadata": {},
   "outputs": [],
   "source": [
    "# Ex: Curve the grades:\n",
    "# Formula: CurvedGrades = sqrt(Grades) * 10\n",
    "\n"
   ]
  },
  {
   "cell_type": "code",
   "execution_count": null,
   "metadata": {},
   "outputs": [],
   "source": [
    "# Calculate the min, max, mean, median, variance, and std of the final grades\n",
    "\n"
   ]
  },
  {
   "cell_type": "code",
   "execution_count": null,
   "metadata": {},
   "outputs": [],
   "source": [
    "# Ex: Define a function num2letter() that converts a numerical grade to a letter grade.\n",
    "# For example, num2letter(95) returns 'A', num2letter(59) returns 'F'\n",
    "\n"
   ]
  },
  {
   "cell_type": "code",
   "execution_count": null,
   "metadata": {},
   "outputs": [],
   "source": [
    "# Apply the function to the final grade column\n",
    "\n"
   ]
  },
  {
   "cell_type": "markdown",
   "metadata": {},
   "source": [
    "## Example: Revisit 80 Cereal Data\n",
    "\n",
    "Using Pandas and DataFrame, let repeat our analysis of the 80 Cereal Data:\n",
    "- Load the csv file using `pd.read_csv()`\n",
    "- Examine the data\n",
    "- Explore the ratings\n",
    "- Analyze sugar contents"
   ]
  },
  {
   "cell_type": "code",
   "execution_count": null,
   "metadata": {},
   "outputs": [],
   "source": [
    "# Load the dataset\n",
    "raw_data = pd.read_csv('cereal.csv') \n",
    "raw_data.head() # by default, column names come from the first row, and integer indexing is used."
   ]
  },
  {
   "cell_type": "code",
   "execution_count": null,
   "metadata": {},
   "outputs": [],
   "source": [
    "# Display the shape\n",
    "\n"
   ]
  },
  {
   "cell_type": "code",
   "execution_count": null,
   "metadata": {},
   "outputs": [],
   "source": [
    "# Display the columns\n",
    "\n"
   ]
  },
  {
   "cell_type": "code",
   "execution_count": null,
   "metadata": {},
   "outputs": [],
   "source": [
    "# Display the data types\n",
    "\n"
   ]
  },
  {
   "cell_type": "code",
   "execution_count": null,
   "metadata": {},
   "outputs": [],
   "source": [
    "# Display all cereal names\n",
    "\n"
   ]
  },
  {
   "cell_type": "code",
   "execution_count": null,
   "metadata": {},
   "outputs": [],
   "source": [
    "# Display all cereal ratings\n",
    "\n"
   ]
  },
  {
   "cell_type": "code",
   "execution_count": null,
   "metadata": {},
   "outputs": [],
   "source": [
    "# Find the product name with highest rating\n",
    "\n"
   ]
  },
  {
   "cell_type": "code",
   "execution_count": null,
   "metadata": {},
   "outputs": [],
   "source": [
    "# Display all cereals with rating above 60\n",
    "\n"
   ]
  },
  {
   "cell_type": "code",
   "execution_count": null,
   "metadata": {},
   "outputs": [],
   "source": [
    "# Calculate sugar per ounce\n",
    "# sugar per ounce = sugar per serving / ounce per serving\n",
    "\n"
   ]
  },
  {
   "cell_type": "code",
   "execution_count": null,
   "metadata": {},
   "outputs": [],
   "source": [
    "# Which product has the highest amount of sugar per ounce?\n",
    "\n"
   ]
  },
  {
   "cell_type": "code",
   "execution_count": null,
   "metadata": {},
   "outputs": [],
   "source": []
  }
 ],
 "metadata": {
  "kernelspec": {
   "display_name": "Python 3",
   "language": "python",
   "name": "python3"
  },
  "language_info": {
   "codemirror_mode": {
    "name": "ipython",
    "version": 3
   },
   "file_extension": ".py",
   "mimetype": "text/x-python",
   "name": "python",
   "nbconvert_exporter": "python",
   "pygments_lexer": "ipython3",
   "version": "3.8.3"
  }
 },
 "nbformat": 4,
 "nbformat_minor": 4
}
