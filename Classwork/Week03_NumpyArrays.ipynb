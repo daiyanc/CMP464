{
 "cells": [
  {
   "cell_type": "markdown",
   "metadata": {},
   "source": [
    "# Week 3\n",
    "# NumPy Arrays\n",
    "\n",
    "[NumPy](https://numpy.org/) is the core library for scientific computing in Python. It provides a high-performance multidimensional array object, and tools for working with these arrays.\n",
    "\n",
    "**Resources:**\n",
    "- Textbook Chapter 4\n",
    "- [NumPy Documentation](https://numpy.org/doc/stable/)\n",
    "- [NumPy Tutorial from W3School](https://www.w3resource.com/python-exercises/numpy/index.php)"
   ]
  },
  {
   "cell_type": "code",
   "execution_count": 1,
   "metadata": {},
   "outputs": [],
   "source": [
    "import numpy as np # np is a universally-used abbrevation for numpy"
   ]
  },
  {
   "cell_type": "markdown",
   "metadata": {},
   "source": [
    "## NumPy Arrays\n",
    "\n",
    "A numpy array is a grid of values, all of the same type, and is indexed by a tuple of nonnegative integers.\n",
    "- **rank**: number of dimensions\n",
    "- **shape** a tuple of integers giving the size of the array along each dimension"
   ]
  },
  {
   "cell_type": "code",
   "execution_count": 4,
   "metadata": {},
   "outputs": [
    {
     "name": "stdout",
     "output_type": "stream",
     "text": [
      "Numpy array: [1 2 3 4]\n",
      "Shape: (4,)\n",
      "Type: int32\n"
     ]
    }
   ],
   "source": [
    "# Create a numpy array from a Python list\n",
    "py_list = [1, 2, 3, 4]\n",
    "np_ary = np.array(py_list)\n",
    "print(\"Numpy array:\", np_ary)\n",
    "print(\"Shape:\", np_ary.shape)\n",
    "print(\"Type:\", np_ary.dtype)"
   ]
  },
  {
   "cell_type": "code",
   "execution_count": 6,
   "metadata": {},
   "outputs": [
    {
     "name": "stdout",
     "output_type": "stream",
     "text": [
      "3\n",
      "3 4 5\n"
     ]
    }
   ],
   "source": [
    "# Access elements using square brackets\n",
    "# Ex: print the index 0, 2, 4 elements of ary\n",
    "ary = np.array([3, 1, 4, 1, 5, 9])\n",
    "print(ary[0])\n",
    "print(ary[0], ary[2], ary[4])"
   ]
  },
  {
   "cell_type": "code",
   "execution_count": 7,
   "metadata": {},
   "outputs": [
    {
     "name": "stdout",
     "output_type": "stream",
     "text": [
      "9\n"
     ]
    }
   ],
   "source": [
    "# Ex: print the last element of ary\n",
    "print(ary[-1])"
   ]
  },
  {
   "cell_type": "code",
   "execution_count": 13,
   "metadata": {},
   "outputs": [
    {
     "name": "stdout",
     "output_type": "stream",
     "text": [
      "[3 1 4]\n",
      "[3 1 4]\n",
      "[1 5 9]\n",
      "[1 5 9]\n"
     ]
    }
   ],
   "source": [
    "# Ex: print the first 3 elements of ary\n",
    "print(ary[0:3])\n",
    "print(ary[:3])\n",
    "print(ary[-3:])\n",
    "print(ary[-3:6])"
   ]
  },
  {
   "cell_type": "code",
   "execution_count": 16,
   "metadata": {},
   "outputs": [
    {
     "name": "stdout",
     "output_type": "stream",
     "text": [
      "[5 9]\n",
      "[5 9]\n",
      "[5 9]\n"
     ]
    }
   ],
   "source": [
    "# Ex: print the last 2 elements of ary\n",
    "print(ary[-2:])\n",
    "print(ary[-2:6])\n",
    "print(ary[4:6])"
   ]
  },
  {
   "cell_type": "code",
   "execution_count": 17,
   "metadata": {},
   "outputs": [
    {
     "name": "stdout",
     "output_type": "stream",
     "text": [
      "[[1 2 3]\n",
      " [4 5 6]]\n"
     ]
    }
   ],
   "source": [
    "# Create a 2D array\n",
    "ary2d = np.array([[1, 2, 3],\n",
    "                  [4, 5, 6]])\n",
    "print(ary2d)"
   ]
  },
  {
   "cell_type": "code",
   "execution_count": 19,
   "metadata": {},
   "outputs": [
    {
     "name": "stdout",
     "output_type": "stream",
     "text": [
      "(2, 3)\n",
      "int32\n"
     ]
    }
   ],
   "source": [
    "# Ex: print the shape and variable type of ary2d\n",
    "print(ary2d.shape)\n",
    "print(ary2d.dtype)"
   ]
  },
  {
   "cell_type": "code",
   "execution_count": 21,
   "metadata": {},
   "outputs": [
    {
     "name": "stdout",
     "output_type": "stream",
     "text": [
      "2\n",
      "2\n"
     ]
    }
   ],
   "source": [
    "# Ex: print the element on the first row and the second column\n",
    "print(ary2d[0][1])\n",
    "print(ary2d[0, 1])"
   ]
  },
  {
   "cell_type": "code",
   "execution_count": 23,
   "metadata": {},
   "outputs": [
    {
     "name": "stdout",
     "output_type": "stream",
     "text": [
      "[1 2 3]\n",
      "[1 2 3]\n"
     ]
    }
   ],
   "source": [
    "# Ex: print the entire first row\n",
    "print(ary2d[0])\n",
    "print(ary2d[0, :])"
   ]
  },
  {
   "cell_type": "code",
   "execution_count": 24,
   "metadata": {},
   "outputs": [
    {
     "name": "stdout",
     "output_type": "stream",
     "text": [
      "[1 4]\n"
     ]
    }
   ],
   "source": [
    "# Ex: print the entire first column\n",
    "print(ary2d[:, 0])"
   ]
  },
  {
   "cell_type": "markdown",
   "metadata": {},
   "source": [
    "NumPy also provides many functions to create arrays:"
   ]
  },
  {
   "cell_type": "code",
   "execution_count": 28,
   "metadata": {},
   "outputs": [
    {
     "name": "stdout",
     "output_type": "stream",
     "text": [
      "[[0. 0. 0.]\n",
      " [0. 0. 0.]]\n",
      "float64\n"
     ]
    }
   ],
   "source": [
    "ary = np.zeros((2, 3))\n",
    "print(ary)\n",
    "print(ary.dtype)"
   ]
  },
  {
   "cell_type": "code",
   "execution_count": 26,
   "metadata": {},
   "outputs": [
    {
     "name": "stdout",
     "output_type": "stream",
     "text": [
      "[[1. 1.]\n",
      " [1. 1.]\n",
      " [1. 1.]]\n"
     ]
    }
   ],
   "source": [
    "ary = np.ones((3, 2))\n",
    "print(ary)"
   ]
  },
  {
   "cell_type": "code",
   "execution_count": 27,
   "metadata": {},
   "outputs": [
    {
     "name": "stdout",
     "output_type": "stream",
     "text": [
      "[[0.72916549 0.12643226]\n",
      " [0.95844534 0.79730669]]\n"
     ]
    }
   ],
   "source": [
    "ary = np.random.rand(2, 2)\n",
    "print(ary)"
   ]
  },
  {
   "cell_type": "code",
   "execution_count": 33,
   "metadata": {},
   "outputs": [
    {
     "name": "stdout",
     "output_type": "stream",
     "text": [
      "[[7 4 6]\n",
      " [6 8 2]\n",
      " [7 4 4]\n",
      " [8 8 4]]\n"
     ]
    }
   ],
   "source": [
    "# What if we want to create an array of random integers?\n",
    "int_ary = np.random.randint(0, 10, size=(4, 3))\n",
    "print(int_ary)"
   ]
  },
  {
   "cell_type": "markdown",
   "metadata": {},
   "source": [
    "## Advanced Array Indexing\n",
    "NumPy arrays support **integer array indexing** and **boolean indexing**, which provides additional tools to create a subarray."
   ]
  },
  {
   "cell_type": "code",
   "execution_count": 34,
   "metadata": {},
   "outputs": [
    {
     "name": "stdout",
     "output_type": "stream",
     "text": [
      "[ 0  8 10]\n"
     ]
    }
   ],
   "source": [
    "# Integer array index: create a subarray whose indices come from another array\n",
    "data_ary = np.array([0, 2, 4, 6, 8, 10])\n",
    "idx_ary = [0, 4, 5]\n",
    "# # What values will be printed?\n",
    "print(data_ary[idx_ary])"
   ]
  },
  {
   "cell_type": "code",
   "execution_count": 35,
   "metadata": {},
   "outputs": [
    {
     "ename": "TypeError",
     "evalue": "list indices must be integers or slices, not list",
     "output_type": "error",
     "traceback": [
      "\u001b[1;31m---------------------------------------------------------------------------\u001b[0m",
      "\u001b[1;31mTypeError\u001b[0m                                 Traceback (most recent call last)",
      "\u001b[1;32m<ipython-input-35-80619807bca1>\u001b[0m in \u001b[0;36m<module>\u001b[1;34m\u001b[0m\n\u001b[0;32m      1\u001b[0m \u001b[0mdata_list\u001b[0m \u001b[1;33m=\u001b[0m \u001b[1;33m[\u001b[0m\u001b[1;36m0\u001b[0m\u001b[1;33m,\u001b[0m \u001b[1;36m2\u001b[0m\u001b[1;33m,\u001b[0m \u001b[1;36m4\u001b[0m\u001b[1;33m,\u001b[0m \u001b[1;36m6\u001b[0m\u001b[1;33m,\u001b[0m \u001b[1;36m8\u001b[0m\u001b[1;33m,\u001b[0m \u001b[1;36m10\u001b[0m\u001b[1;33m]\u001b[0m\u001b[1;33m\u001b[0m\u001b[1;33m\u001b[0m\u001b[0m\n\u001b[1;32m----> 2\u001b[1;33m \u001b[0mdata_list\u001b[0m\u001b[1;33m[\u001b[0m\u001b[0midx_ary\u001b[0m\u001b[1;33m]\u001b[0m\u001b[1;33m\u001b[0m\u001b[1;33m\u001b[0m\u001b[0m\n\u001b[0m",
      "\u001b[1;31mTypeError\u001b[0m: list indices must be integers or slices, not list"
     ]
    }
   ],
   "source": [
    "# Python list does not support integer array indexing\n",
    "data_list = [0, 2, 4, 6, 8, 10]\n",
    "data_list[idx_ary]"
   ]
  },
  {
   "cell_type": "code",
   "execution_count": 37,
   "metadata": {},
   "outputs": [
    {
     "name": "stdout",
     "output_type": "stream",
     "text": [
      "[ True  True False False False False]\n",
      "[1 3]\n"
     ]
    }
   ],
   "source": [
    "# Boolean indexing: select values that satisfies some condition\n",
    "ary = np.array([1, 3, -5, -2, 0, -1])\n",
    "idx = (ary > 0)\n",
    "# What will be printed?\n",
    "print(idx)\n",
    "print(ary[idx])"
   ]
  },
  {
   "cell_type": "code",
   "execution_count": 40,
   "metadata": {},
   "outputs": [
    {
     "name": "stdout",
     "output_type": "stream",
     "text": [
      "[1 3 0]\n"
     ]
    }
   ],
   "source": [
    "# plug in the condition directly\n",
    "print(ary[ary >= 0])"
   ]
  },
  {
   "cell_type": "markdown",
   "metadata": {},
   "source": [
    "## Array Math\n",
    "Basic mathematical functions operate elementwise on the arrays."
   ]
  },
  {
   "cell_type": "code",
   "execution_count": 41,
   "metadata": {},
   "outputs": [
    {
     "name": "stdout",
     "output_type": "stream",
     "text": [
      "[[2 3 4]\n",
      " [5 6 7]]\n"
     ]
    }
   ],
   "source": [
    "x = np.array([[1, 2, 3],\n",
    "              [4, 5, 6]])\n",
    "print(x + 1)"
   ]
  },
  {
   "cell_type": "code",
   "execution_count": 42,
   "metadata": {},
   "outputs": [
    {
     "name": "stdout",
     "output_type": "stream",
     "text": [
      "[[ 2  4  6]\n",
      " [ 8 10 12]]\n"
     ]
    }
   ],
   "source": [
    "print(x * 2)"
   ]
  },
  {
   "cell_type": "code",
   "execution_count": 43,
   "metadata": {},
   "outputs": [
    {
     "name": "stdout",
     "output_type": "stream",
     "text": [
      "[[11 22 33]\n",
      " [44 55 66]]\n"
     ]
    }
   ],
   "source": [
    "y = np.array([[10, 20, 30],\n",
    "              [40, 50, 60]])\n",
    "print(x + y)"
   ]
  },
  {
   "cell_type": "code",
   "execution_count": 44,
   "metadata": {},
   "outputs": [
    {
     "name": "stdout",
     "output_type": "stream",
     "text": [
      "[[ 10  40  90]\n",
      " [160 250 360]]\n"
     ]
    }
   ],
   "source": [
    "print(x * y)"
   ]
  },
  {
   "cell_type": "code",
   "execution_count": 45,
   "metadata": {},
   "outputs": [
    {
     "ename": "ValueError",
     "evalue": "operands could not be broadcast together with shapes (2,3) (2,4) ",
     "output_type": "error",
     "traceback": [
      "\u001b[1;31m---------------------------------------------------------------------------\u001b[0m",
      "\u001b[1;31mValueError\u001b[0m                                Traceback (most recent call last)",
      "\u001b[1;32m<ipython-input-45-ed9372858a59>\u001b[0m in \u001b[0;36m<module>\u001b[1;34m\u001b[0m\n\u001b[0;32m      1\u001b[0m z = np.array([[-1, -2, -3, -4],\n\u001b[0;32m      2\u001b[0m               [-5, -6, -7, -8]])\n\u001b[1;32m----> 3\u001b[1;33m \u001b[0mprint\u001b[0m\u001b[1;33m(\u001b[0m\u001b[0mx\u001b[0m \u001b[1;33m+\u001b[0m \u001b[0mz\u001b[0m\u001b[1;33m)\u001b[0m\u001b[1;33m\u001b[0m\u001b[1;33m\u001b[0m\u001b[0m\n\u001b[0m",
      "\u001b[1;31mValueError\u001b[0m: operands could not be broadcast together with shapes (2,3) (2,4) "
     ]
    }
   ],
   "source": [
    "z = np.array([[-1, -2, -3, -4],\n",
    "              [-5, -6, -7, -8]])\n",
    "print(x + z)"
   ]
  },
  {
   "cell_type": "markdown",
   "metadata": {},
   "source": [
    "## NumPy Math Functions\n",
    "NumPy provides many math functions that are fully compatible with NumPy arrays"
   ]
  },
  {
   "cell_type": "code",
   "execution_count": 48,
   "metadata": {},
   "outputs": [
    {
     "name": "stdout",
     "output_type": "stream",
     "text": [
      "[ 1  2  3  4  5  6  7  8  9 10]\n",
      "(10,)\n",
      "[1.         1.41421356 1.73205081 2.         2.23606798 2.44948974\n",
      " 2.64575131 2.82842712 3.         3.16227766]\n"
     ]
    }
   ],
   "source": [
    "# Calculate the square-root of 1, 2, ..., 10\n",
    "ary = np.arange(1, 11)\n",
    "print(ary)\n",
    "print(ary.shape)\n",
    "ary2 = np.sqrt(ary)\n",
    "print(ary2)"
   ]
  },
  {
   "cell_type": "code",
   "execution_count": 49,
   "metadata": {},
   "outputs": [
    {
     "name": "stdout",
     "output_type": "stream",
     "text": [
      "Minimum: 12\n",
      "Maximum: 90\n",
      "Mean: 54.0\n",
      "Variance: 808.0\n",
      "Standard deviation: 28.42534080710379\n"
     ]
    }
   ],
   "source": [
    "# Statistical functions\n",
    "data = np.array([12, 34, 56, 78, 90])\n",
    "print(\"Minimum:\", data.min())\n",
    "print(\"Maximum:\", data.max())\n",
    "print(\"Mean:\", data.mean())\n",
    "print(\"Variance:\", data.var())\n",
    "print(\"Standard deviation:\", data.std())"
   ]
  },
  {
   "cell_type": "code",
   "execution_count": 51,
   "metadata": {},
   "outputs": [
    {
     "name": "stdout",
     "output_type": "stream",
     "text": [
      "12\n",
      "90\n"
     ]
    }
   ],
   "source": [
    "# These functions can be called directly\n",
    "print(np.min(data))\n",
    "print(np.max(data))"
   ]
  },
  {
   "cell_type": "markdown",
   "metadata": {},
   "source": [
    "# Example: 80 Cereals - Nutrition data on 80 cereal products\n",
    "\n",
    "In this example, we will use NumPy to analyze a dataset that contains nutrition facts on 80 cereal products. In particular, we will:\n",
    "- Download and load the dataset.\n",
    "- Explore for interesting information\n",
    "- Examine sugar content\n",
    "\n",
    "The data file can be downloaded from [Kaggle.com](https://www.kaggle.com/crawford/80-cereals)\n",
    "\n",
    ">If you like to eat cereal, do yourself a favor and avoid this dataset at all costs. After seeing these data it will never be the same for me to eat Fruity Pebbles again. - Kaggle\n",
    "\n",
    "- Download the zip file from Kaggle (login required)\n",
    "- Unzip to get `cereal.csv` file\n",
    "- Move the csv file to a proper folder\n",
    "- Open the csv file using notepad and excel to examine its content"
   ]
  },
  {
   "cell_type": "markdown",
   "metadata": {},
   "source": [
    "## Load And Examine The Data"
   ]
  },
  {
   "cell_type": "code",
   "execution_count": 2,
   "metadata": {},
   "outputs": [],
   "source": [
    "# Load the csv file with np.loadtxt()\n",
    "# Spoiler alert: in the next chapter we will learn a more user-friendly\n",
    "# way of loading data.\n",
    "import numpy as np # import numpy again to make this section self-contained\n",
    "raw_data = np.loadtxt(\"cereal.csv\", delimiter=\",\", skiprows=1, dtype=str)"
   ]
  },
  {
   "cell_type": "code",
   "execution_count": 7,
   "metadata": {},
   "outputs": [
    {
     "name": "stdout",
     "output_type": "stream",
     "text": [
      "[['100% Bran' 'N' 'C' '70' '4' '1' '130' '10' '5' '6' '280' '25' '3' '1'\n",
      "  '0.33' '68.402973']\n",
      " ['100% Natural Bran' 'Q' 'C' '120' '3' '5' '15' '2' '8' '8' '135' '0'\n",
      "  '3' '1' '1' '33.983679']\n",
      " ['All-Bran' 'K' 'C' '70' '4' '1' '260' '9' '7' '5' '320' '25' '3' '1'\n",
      "  '0.33' '59.425505']\n",
      " ['All-Bran with Extra Fiber' 'K' 'C' '50' '4' '0' '140' '14' '8' '0'\n",
      "  '330' '25' '3' '1' '0.5' '93.704912']\n",
      " ['Almond Delight' 'R' 'C' '110' '2' '2' '200' '1' '14' '8' '-1' '25' '3'\n",
      "  '1' '0.75' '34.384843']]\n"
     ]
    }
   ],
   "source": [
    "# Show values in raw_data\n",
    "print(raw_data[0:5, :])"
   ]
  },
  {
   "cell_type": "code",
   "execution_count": 11,
   "metadata": {},
   "outputs": [
    {
     "data": {
      "text/plain": [
       "(77, 16)"
      ]
     },
     "execution_count": 11,
     "metadata": {},
     "output_type": "execute_result"
    }
   ],
   "source": [
    "# Ex: What is the shape of raw_data?\n",
    "# len(raw_data)\n",
    "raw_data.shape"
   ]
  },
  {
   "cell_type": "code",
   "execution_count": 12,
   "metadata": {},
   "outputs": [],
   "source": [
    "# Ex: Create a list of feature names (call it feature_names)\n",
    "feature_names = [\"name\",\"mfr\",\"type\",\"calories\",\"protein\",\"fat\",\"sodium\",\n",
    "                 \"fiber\",\"carbo\",\"sugars\",\"potass\",\"vitamins\",\"shelf\",\n",
    "                 \"weight\",\"cups\",\"rating\"]"
   ]
  },
  {
   "cell_type": "markdown",
   "metadata": {},
   "source": [
    "## Explore The Contents"
   ]
  },
  {
   "cell_type": "code",
   "execution_count": 13,
   "metadata": {},
   "outputs": [
    {
     "data": {
      "text/plain": [
       "array(['100% Bran', '100% Natural Bran', 'All-Bran',\n",
       "       'All-Bran with Extra Fiber', 'Almond Delight',\n",
       "       'Apple Cinnamon Cheerios', 'Apple Jacks', 'Basic 4', 'Bran Chex',\n",
       "       'Bran Flakes', \"Cap'n'Crunch\", 'Cheerios', 'Cinnamon Toast Crunch',\n",
       "       'Clusters', 'Cocoa Puffs', 'Corn Chex', 'Corn Flakes', 'Corn Pops',\n",
       "       'Count Chocula', \"Cracklin' Oat Bran\", 'Cream of Wheat (Quick)',\n",
       "       'Crispix', 'Crispy Wheat & Raisins', 'Double Chex', 'Froot Loops',\n",
       "       'Frosted Flakes', 'Frosted Mini-Wheats',\n",
       "       'Fruit & Fibre Dates; Walnuts; and Oats', 'Fruitful Bran',\n",
       "       'Fruity Pebbles', 'Golden Crisp', 'Golden Grahams',\n",
       "       'Grape Nuts Flakes', 'Grape-Nuts', 'Great Grains Pecan',\n",
       "       'Honey Graham Ohs', 'Honey Nut Cheerios', 'Honey-comb',\n",
       "       'Just Right Crunchy  Nuggets', 'Just Right Fruit & Nut', 'Kix',\n",
       "       'Life', 'Lucky Charms', 'Maypo',\n",
       "       'Muesli Raisins; Dates; & Almonds',\n",
       "       'Muesli Raisins; Peaches; & Pecans', 'Mueslix Crispy Blend',\n",
       "       'Multi-Grain Cheerios', 'Nut&Honey Crunch',\n",
       "       'Nutri-Grain Almond-Raisin', 'Nutri-grain Wheat',\n",
       "       'Oatmeal Raisin Crisp', 'Post Nat. Raisin Bran', 'Product 19',\n",
       "       'Puffed Rice', 'Puffed Wheat', 'Quaker Oat Squares',\n",
       "       'Quaker Oatmeal', 'Raisin Bran', 'Raisin Nut Bran',\n",
       "       'Raisin Squares', 'Rice Chex', 'Rice Krispies', 'Shredded Wheat',\n",
       "       \"Shredded Wheat 'n'Bran\", 'Shredded Wheat spoon size', 'Smacks',\n",
       "       'Special K', 'Strawberry Fruit Wheats', 'Total Corn Flakes',\n",
       "       'Total Raisin Bran', 'Total Whole Grain', 'Triples', 'Trix',\n",
       "       'Wheat Chex', 'Wheaties', 'Wheaties Honey Gold'], dtype='<U38')"
      ]
     },
     "execution_count": 13,
     "metadata": {},
     "output_type": "execute_result"
    }
   ],
   "source": [
    "# Display the list of cereal names\n",
    "raw_data[:, 0]"
   ]
  },
  {
   "cell_type": "code",
   "execution_count": 29,
   "metadata": {},
   "outputs": [
    {
     "data": {
      "text/plain": [
       "(77,)"
      ]
     },
     "execution_count": 29,
     "metadata": {},
     "output_type": "execute_result"
    }
   ],
   "source": [
    "# Display the list of cereal ratings\n",
    "ratings = raw_data[:, -1]\n",
    "ratings.shape"
   ]
  },
  {
   "cell_type": "code",
   "execution_count": null,
   "metadata": {},
   "outputs": [],
   "source": [
    "# Display the amount of sugars for each product.\n",
    "# How can we identify the column index for sugar?\n",
    "\n",
    "# index_sugars = feature_names.index(\"sugars\")\n",
    "# raw_data[:, index_sugars]\n",
    "\n",
    "# raw_data[:, feature_names.index(\"sugars\")]\n",
    "\n",
    "raw_data[:, np.array(feature_names) == \"sugars\"] # use a condition to select the sugars column"
   ]
  },
  {
   "cell_type": "code",
   "execution_count": 36,
   "metadata": {
    "scrolled": true
   },
   "outputs": [
    {
     "ename": "TypeError",
     "evalue": "cannot perform reduce with flexible type",
     "output_type": "error",
     "traceback": [
      "\u001b[1;31m---------------------------------------------------------------------------\u001b[0m",
      "\u001b[1;31mTypeError\u001b[0m                                 Traceback (most recent call last)",
      "\u001b[1;32m<ipython-input-36-104148cf7940>\u001b[0m in \u001b[0;36m<module>\u001b[1;34m\u001b[0m\n\u001b[0;32m      1\u001b[0m \u001b[1;31m# What is the highest rating?\u001b[0m\u001b[1;33m\u001b[0m\u001b[1;33m\u001b[0m\u001b[1;33m\u001b[0m\u001b[0m\n\u001b[1;32m----> 2\u001b[1;33m \u001b[0mratings\u001b[0m\u001b[1;33m.\u001b[0m\u001b[0mmax\u001b[0m\u001b[1;33m(\u001b[0m\u001b[1;33m)\u001b[0m \u001b[1;31m# This will cause an error since the array contains strings\u001b[0m\u001b[1;33m\u001b[0m\u001b[1;33m\u001b[0m\u001b[0m\n\u001b[0m",
      "\u001b[1;32m~\\anaconda3\\lib\\site-packages\\numpy\\core\\_methods.py\u001b[0m in \u001b[0;36m_amax\u001b[1;34m(a, axis, out, keepdims, initial, where)\u001b[0m\n\u001b[0;32m     28\u001b[0m def _amax(a, axis=None, out=None, keepdims=False,\n\u001b[0;32m     29\u001b[0m           initial=_NoValue, where=True):\n\u001b[1;32m---> 30\u001b[1;33m     \u001b[1;32mreturn\u001b[0m \u001b[0mumr_maximum\u001b[0m\u001b[1;33m(\u001b[0m\u001b[0ma\u001b[0m\u001b[1;33m,\u001b[0m \u001b[0maxis\u001b[0m\u001b[1;33m,\u001b[0m \u001b[1;32mNone\u001b[0m\u001b[1;33m,\u001b[0m \u001b[0mout\u001b[0m\u001b[1;33m,\u001b[0m \u001b[0mkeepdims\u001b[0m\u001b[1;33m,\u001b[0m \u001b[0minitial\u001b[0m\u001b[1;33m,\u001b[0m \u001b[0mwhere\u001b[0m\u001b[1;33m)\u001b[0m\u001b[1;33m\u001b[0m\u001b[1;33m\u001b[0m\u001b[0m\n\u001b[0m\u001b[0;32m     31\u001b[0m \u001b[1;33m\u001b[0m\u001b[0m\n\u001b[0;32m     32\u001b[0m def _amin(a, axis=None, out=None, keepdims=False,\n",
      "\u001b[1;31mTypeError\u001b[0m: cannot perform reduce with flexible type"
     ]
    }
   ],
   "source": [
    "# What is the highest rating?\n",
    "ratings.max() # This will cause an error since the array contains strings"
   ]
  },
  {
   "cell_type": "code",
   "execution_count": 37,
   "metadata": {},
   "outputs": [
    {
     "data": {
      "text/plain": [
       "array([68.402973, 33.983679, 59.425505, 93.704912, 34.384843, 29.509541,\n",
       "       33.174094, 37.038562, 49.120253, 53.313813, 18.042851, 50.764999,\n",
       "       19.823573, 40.400208, 22.736446, 41.445019, 45.863324, 35.782791,\n",
       "       22.396513, 40.448772, 64.533816, 46.895644, 36.176196, 44.330856,\n",
       "       32.207582, 31.435973, 58.345141, 40.917047, 41.015492, 28.025765,\n",
       "       35.252444, 23.804043, 52.076897, 53.371007, 45.811716, 21.871292,\n",
       "       31.072217, 28.742414, 36.523683, 36.471512, 39.241114, 45.328074,\n",
       "       26.734515, 54.850917, 37.136863, 34.139765, 30.313351, 40.105965,\n",
       "       29.924285, 40.69232 , 59.642837, 30.450843, 37.840594, 41.50354 ,\n",
       "       60.756112, 63.005645, 49.511874, 50.828392, 39.259197, 39.7034  ,\n",
       "       55.333142, 41.998933, 40.560159, 68.235885, 74.472949, 72.801787,\n",
       "       31.230054, 53.131324, 59.363993, 38.839746, 28.592785, 46.658844,\n",
       "       39.106174, 27.753301, 49.787445, 51.592193, 36.187559])"
      ]
     },
     "execution_count": 37,
     "metadata": {},
     "output_type": "execute_result"
    }
   ],
   "source": [
    "# Need to convert strings in ratings to floating point numbers.\n",
    "ratings.astype(float)"
   ]
  },
  {
   "cell_type": "code",
   "execution_count": null,
   "metadata": {},
   "outputs": [],
   "source": [
    "# Which cereal receives the highest rating?\n"
   ]
  },
  {
   "cell_type": "code",
   "execution_count": null,
   "metadata": {},
   "outputs": [],
   "source": [
    "# How many cereals receive rating above 60? What are they?\n"
   ]
  },
  {
   "cell_type": "code",
   "execution_count": null,
   "metadata": {},
   "outputs": [],
   "source": [
    "# What is the average rating?\n"
   ]
  },
  {
   "cell_type": "markdown",
   "metadata": {},
   "source": [
    "## Sugar"
   ]
  },
  {
   "cell_type": "code",
   "execution_count": null,
   "metadata": {},
   "outputs": [],
   "source": [
    "# Display the list of sugar per serving\n"
   ]
  },
  {
   "cell_type": "code",
   "execution_count": null,
   "metadata": {},
   "outputs": [],
   "source": [
    "# Display the list of weight per serving\n"
   ]
  },
  {
   "cell_type": "code",
   "execution_count": null,
   "metadata": {},
   "outputs": [],
   "source": [
    "# Calculate sugar per ounce\n"
   ]
  },
  {
   "cell_type": "code",
   "execution_count": null,
   "metadata": {},
   "outputs": [],
   "source": [
    "# Which product has the highest amount of sugar per ounce?\n"
   ]
  }
 ],
 "metadata": {
  "kernelspec": {
   "display_name": "Python 3",
   "language": "python",
   "name": "python3"
  },
  "language_info": {
   "codemirror_mode": {
    "name": "ipython",
    "version": 3
   },
   "file_extension": ".py",
   "mimetype": "text/x-python",
   "name": "python",
   "nbconvert_exporter": "python",
   "pygments_lexer": "ipython3",
   "version": "3.8.3"
  }
 },
 "nbformat": 4,
 "nbformat_minor": 4
}
