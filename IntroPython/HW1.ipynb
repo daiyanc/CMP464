{
 "cells": [
  {
   "cell_type": "markdown",
   "metadata": {},
   "source": [
    "# Homework Assignment 1\n",
    "\n",
    "1. In the code cell below, write a Python program to calculate the distance between point (x1, y1) and (x2, y2). \n",
    "\n",
    "Recall that the distance formula is:\n",
    "$$\n",
    "distance = \\sqrt{(x_1 - x_2)^2 + (y_1 - y_2)^2}.\n",
    "$$"
   ]
  },
  {
   "cell_type": "code",
   "execution_count": 1,
   "metadata": {},
   "outputs": [],
   "source": [
    "import math\n",
    "\n",
    "x1, y1 = 1, 2\n",
    "x2, y2 = 3, 4\n",
    "\n",
    "# Your code here\n",
    "distance = math.sqrt((x1 - x2)^2 + (y1 - y2)^2)\n"
   ]
  },
  {
   "cell_type": "markdown",
   "metadata": {},
   "source": [
    "2. In the code cell below, write a Python program that converts height from inches and feet to centimeters.\n",
    "\n",
    "    - 1 foot = 30.48 centimeters\n",
    "    - 1 inch = 2.54 centimeters"
   ]
  },
  {
   "cell_type": "code",
   "execution_count": null,
   "metadata": {},
   "outputs": [],
   "source": [
    "height_feet = 5\n",
    "height_inches = 10\n",
    "\n",
    "# Your code here\n",
    "height_feet_to_centimeter = height_feet * 12\n",
    "height_inches_to_centimeters = height_inches * 2.54\n",
    "\n",
    "\n",
    "\n",
    "\n",
    "\n"
   ]
  },
  {
   "cell_type": "markdown",
   "metadata": {},
   "source": [
    "### Convert the Notebook to a PDF File\n",
    "- Click the \"Print\" option from the brower (Keyboard shortcut: Ctrl + P)\n",
    "- Change the print destination to \"PDF File\"\n",
    "- Save the file in the hard drive.\n",
    "\n",
    "Submit the PDF file to Homework Assignment 1 in the assignment section from Blackboard before **Monday, Sep. 6th at 11:59PM**."
   ]
  }
 ],
 "metadata": {
  "kernelspec": {
   "display_name": "Python 3",
   "language": "python",
   "name": "python3"
  },
  "language_info": {
   "codemirror_mode": {
    "name": "ipython",
    "version": 3
   },
   "file_extension": ".py",
   "mimetype": "text/x-python",
   "name": "python",
   "nbconvert_exporter": "python",
   "pygments_lexer": "ipython3",
   "version": "3.8.3"
  }
 },
 "nbformat": 4,
 "nbformat_minor": 4
}